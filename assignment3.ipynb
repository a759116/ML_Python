{
 "cells": [
  {
   "cell_type": "code",
   "execution_count": 1,
   "metadata": {},
   "outputs": [],
   "source": [
    "import time\n",
    "import numpy as np\n",
    "import matplotlib.pyplot as plt\n",
    "import pandas as pd"
   ]
  },
  {
   "cell_type": "code",
   "execution_count": 2,
   "metadata": {},
   "outputs": [],
   "source": [
    "#Loading the dataset\n",
    "from sklearn.datasets import load_breast_cancer\n",
    "df = load_breast_cancer()"
   ]
  },
  {
   "cell_type": "code",
   "execution_count": 3,
   "metadata": {},
   "outputs": [],
   "source": [
    "#get features (X) and class (y) from the dataset \n",
    "X = df.data\n",
    "y = df.target\n",
    "\n",
    "#intialize a dictionary to capture execution time and accuracy for various models\n",
    "models_info = {}"
   ]
  },
  {
   "cell_type": "markdown",
   "metadata": {},
   "source": [
    "Load the dataset and split it into a training set (70%) and a test set (30%)."
   ]
  },
  {
   "cell_type": "code",
   "execution_count": 4,
   "metadata": {},
   "outputs": [],
   "source": [
    "#Splitting the data into Training Set and Test Set\n",
    "from sklearn.model_selection import train_test_split\n",
    "X_train, X_test, y_train, y_test= train_test_split(X,y,test_size=0.3,random_state=0)\n",
    "\n",
    "#Normalizing the features\n",
    "from sklearn.preprocessing import StandardScaler\n",
    "sc_X= StandardScaler()\n",
    "X_train= sc_X.fit_transform(X_train)\n",
    "X_test= sc_X.transform(X_test)"
   ]
  },
  {
   "cell_type": "markdown",
   "metadata": {},
   "source": [
    "Train <b>Logistic Regression</b> on the dataset and time how long it takes. Look up how to compute execution time of Python code."
   ]
  },
  {
   "cell_type": "code",
   "execution_count": 5,
   "metadata": {},
   "outputs": [
    {
     "name": "stdout",
     "output_type": "stream",
     "text": [
      "--- execution time in 0.24829888343811035 seconds ---\n"
     ]
    }
   ],
   "source": [
    "start_time = time.time()\n",
    "\n",
    "#Fitting Logistic Regression to Training Set\n",
    "from sklearn.linear_model import LogisticRegression\n",
    "classifierObj= LogisticRegression(random_state=0)\n",
    "classifierObj.fit(X_train, y_train)\n",
    "\n",
    "execTimeLR = time.time() - start_time\n",
    "print(\"--- execution time in %s seconds ---\" % execTimeLR)"
   ]
  },
  {
   "cell_type": "markdown",
   "metadata": {},
   "source": [
    "Evaluate the resulting model on the test set."
   ]
  },
  {
   "cell_type": "code",
   "execution_count": 6,
   "metadata": {},
   "outputs": [],
   "source": [
    "#Making predictions on the Test Set\n",
    "y_pred= classifierObj.predict(X_test)\n",
    "\n",
    "#Evaluating the predictions using a Confusion Matrix\n",
    "from sklearn.metrics import confusion_matrix\n",
    "cm = confusion_matrix(y_test, y_pred)\n",
    "\n",
    "lrScore = classifierObj.score(X_test,y_test)\n",
    "\n",
    "models_info[\"Logistic Regression\"] = lrScore *100, execTimeLR"
   ]
  },
  {
   "cell_type": "markdown",
   "metadata": {},
   "source": [
    "Next, use <b>PCA</b> to reduce the dataset’s dimensionality, with an explained variance ratio of at least 95%."
   ]
  },
  {
   "cell_type": "code",
   "execution_count": 7,
   "metadata": {},
   "outputs": [],
   "source": [
    "#Applying PCA\n",
    "from sklearn.decomposition import PCA\n",
    "pcaObj= PCA(n_components=None)\n",
    "X_train_pca = pcaObj.fit_transform(X_train)\n",
    "X_test_pca = pcaObj.transform(X_test)\n",
    "components_variance= pcaObj.explained_variance_ratio_"
   ]
  },
  {
   "cell_type": "code",
   "execution_count": 8,
   "metadata": {},
   "outputs": [
    {
     "data": {
      "image/png": "[encoded data removed]",
      "text/plain": [
       "<Figure size 432x288 with 1 Axes>"
      ]
     },
     "metadata": {},
     "output_type": "display_data"
    }
   ],
   "source": [
    "plt.plot(np.cumsum(pcaObj.explained_variance_ratio_))\n",
    "plt.xlabel('number of components')\n",
    "plt.ylabel('cumulative explained variance');"
   ]
  },
  {
   "cell_type": "code",
   "execution_count": 9,
   "metadata": {},
   "outputs": [
    {
     "name": "stdout",
     "output_type": "stream",
     "text": [
      "Principal Component  %Variance        %Cummulative    \n",
      "1                    43.69            43.69           \n",
      "2                    19.42            63.10           \n",
      "3                    9.66             72.77           \n",
      "4                    6.72             79.48           \n",
      "5                    5.50             84.98           \n",
      "6                    4.01             88.99           \n",
      "7                    2.18             91.18           \n",
      "8                    1.49             92.67           \n",
      "9                    1.37             94.04           \n",
      "10                   1.10             95.14           \n"
     ]
    }
   ],
   "source": [
    "cumsum = 0\n",
    "print('{:<20} {:<16} {:<16}'.format(\"Principal Component\", \"%Variance\", \"%Cummulative\"))\n",
    "for i in range(0,30):\n",
    "    cumsum = cumsum + components_variance[i]\n",
    "    print('{:<20} {:<16.2f} {:<16.2f}'.format(i+1, components_variance[i]*100, cumsum*100))\n",
    "    if (cumsum > 0.95):\n",
    "        break"
   ]
  },
  {
   "cell_type": "code",
   "execution_count": 11,
   "metadata": {},
   "outputs": [],
   "source": [
    "#Applying PCA\n",
    "from sklearn.decomposition import PCA\n",
    "pcaObj= PCA(n_components = i+1 )\n",
    "X_train_pca = pcaObj.fit_transform(X_train)\n",
    "X_test_pca = pcaObj.transform(X_test)\n",
    "components_variance= pcaObj.explained_variance_ratio_"
   ]
  },
  {
   "cell_type": "markdown",
   "metadata": {},
   "source": [
    "Train a new Logistic Regression classifier on the PCA reduced dataset and see how long it takes. Was training much faster?"
   ]
  },
  {
   "cell_type": "code",
   "execution_count": 12,
   "metadata": {},
   "outputs": [
    {
     "name": "stdout",
     "output_type": "stream",
     "text": [
      "--- execution time in 0.0021820068359375 seconds ---\n",
      "--- execution time difference in 0.24611687660217285 seconds ---\n"
     ]
    }
   ],
   "source": [
    "start_time = time.time()\n",
    "\n",
    "#Fitting Logistic Regression to Training Set\n",
    "from sklearn.linear_model import LogisticRegression\n",
    "classifierObj= LogisticRegression(random_state=0)\n",
    "classifierObj.fit(X_train_pca, y_train)\n",
    "\n",
    "execTimePCA = time.time() - start_time\n",
    "print(\"--- execution time in %s seconds ---\" % execTimePCA)\n",
    "print(\"--- execution time difference in %s seconds ---\" % (execTimeLR - execTimePCA))"
   ]
  },
  {
   "cell_type": "markdown",
   "metadata": {},
   "source": [
    "Next evaluate the classifier on the test set: how does it compare to the previous classifier?"
   ]
  },
  {
   "cell_type": "code",
   "execution_count": 13,
   "metadata": {},
   "outputs": [],
   "source": [
    "#Making predictions on the Test Set\n",
    "y_pred_pca= classifierObj.predict(X_test_pca)\n",
    "\n",
    "#Evaluating the predictions using a Confusion Matrix\n",
    "from sklearn.metrics import confusion_matrix\n",
    "cm_pca = confusion_matrix(y_test, y_pred_pca)\n",
    "\n",
    "pcaScore = classifierObj.score(X_test_pca,y_test)\n",
    "\n",
    "models_info[\"PCA\"] = pcaScore * 100, execTimePCA"
   ]
  },
  {
   "cell_type": "markdown",
   "metadata": {},
   "source": [
    "Use <b>LDA</b> to reduce the dataset’s dimensionality down to 1 linear discriminant."
   ]
  },
  {
   "cell_type": "code",
   "execution_count": 14,
   "metadata": {},
   "outputs": [],
   "source": [
    "#Applying LDA\n",
    "from sklearn.discriminant_analysis import LinearDiscriminantAnalysis as LDA\n",
    "ldaObj = LDA(n_components=1)\n",
    "X_train_lda = ldaObj.fit_transform(X_train,y_train)\n",
    "X_test_lda = ldaObj.transform(X_test)"
   ]
  },
  {
   "cell_type": "markdown",
   "metadata": {},
   "source": [
    "Train a new Logistic Regression classifier on the LDA reduced dataset and see how long it takes."
   ]
  },
  {
   "cell_type": "code",
   "execution_count": 15,
   "metadata": {},
   "outputs": [
    {
     "name": "stdout",
     "output_type": "stream",
     "text": [
      "--- execution time in 0.0008959770202636719 seconds ---\n"
     ]
    }
   ],
   "source": [
    "start_time = time.time()\n",
    "\n",
    "#Fitting Logistic Regression to Training Set\n",
    "from sklearn.linear_model import LogisticRegression\n",
    "classifierObj= LogisticRegression(random_state=0)\n",
    "classifierObj.fit(X_train_lda, y_train)\n",
    "\n",
    "execTimeLDA = time.time() - start_time\n",
    "print(\"--- execution time in %s seconds ---\" % execTimeLDA)"
   ]
  },
  {
   "cell_type": "markdown",
   "metadata": {},
   "source": [
    "Evaluate the classifier on the test set."
   ]
  },
  {
   "cell_type": "code",
   "execution_count": 16,
   "metadata": {},
   "outputs": [],
   "source": [
    "#Making predictions on the Test Set\n",
    "y_pred_lda = classifierObj.predict(X_test_lda)\n",
    "\n",
    "#Evaluating the predictions using a Confusion Matrix\n",
    "from sklearn.metrics import confusion_matrix\n",
    "cm_lda = confusion_matrix(y_test, y_pred_lda)\n",
    "\n",
    "ldaScore = classifierObj.score(X_test_lda,y_test)\n",
    "\n",
    "models_info[\"LDA\"] = ldaScore * 100, execTimeLDA"
   ]
  },
  {
   "cell_type": "markdown",
   "metadata": {},
   "source": [
    "Use <b>Kernel PCA</b> to reduce the dataset’s dimensionality down to 2 features."
   ]
  },
  {
   "cell_type": "code",
   "execution_count": 17,
   "metadata": {},
   "outputs": [],
   "source": [
    "#kernel PCA\n",
    "from sklearn.decomposition import KernelPCA\n",
    "kernelPCAObj = KernelPCA(n_components=2, kernel='rbf')\n",
    "X_train_kpca = kernelPCAObj.fit_transform(X_train)\n",
    "X_test_kpca = kernelPCAObj.transform(X_test)"
   ]
  },
  {
   "cell_type": "markdown",
   "metadata": {},
   "source": [
    "Train a new Logistic Regression classifier on the Kernel PCA reduced dataset and see how long it takes."
   ]
  },
  {
   "cell_type": "code",
   "execution_count": 18,
   "metadata": {},
   "outputs": [
    {
     "name": "stdout",
     "output_type": "stream",
     "text": [
      "--- execution time in 0.0010459423065185547 seconds ---\n"
     ]
    }
   ],
   "source": [
    "start_time = time.time()\n",
    "\n",
    "#Fitting Logistic Regression to Training Set\n",
    "from sklearn.linear_model import LogisticRegression\n",
    "classifierObj = LogisticRegression(random_state=0)\n",
    "classifierObj.fit(X_train_kpca, y_train)\n",
    "\n",
    "execTimeKPCA = time.time() - start_time\n",
    "print(\"--- execution time in %s seconds ---\" % execTimeKPCA)"
   ]
  },
  {
   "cell_type": "markdown",
   "metadata": {},
   "source": [
    "Evaluate the classifier on the test set."
   ]
  },
  {
   "cell_type": "code",
   "execution_count": 19,
   "metadata": {},
   "outputs": [],
   "source": [
    "#Making predictions on the Test Set\n",
    "y_pred_kpca = classifierObj.predict(X_test_kpca)\n",
    "\n",
    "#Evaluating the predictions using a Confusion Matrix\n",
    "from sklearn.metrics import confusion_matrix\n",
    "cm_kpca = confusion_matrix(y_test, y_pred_kpca)\n",
    "\n",
    "kpcaScore = classifierObj.score(X_test_kpca, y_test)"
   ]
  },
  {
   "cell_type": "code",
   "execution_count": 20,
   "metadata": {},
   "outputs": [],
   "source": [
    "models_info[\"KPCA\"] = kpcaScore * 100, execTimeKPCA"
   ]
  },
  {
   "cell_type": "markdown",
   "metadata": {},
   "source": [
    "<b>Models performance summary</b>"
   ]
  },
  {
   "cell_type": "code",
   "execution_count": 21,
   "metadata": {},
   "outputs": [
    {
     "name": "stdout",
     "output_type": "stream",
     "text": [
      "Model                Accuracy     Execution Time\n",
      "Logistic Regression  97.6608      0.2483      \n",
      "PCA                  95.9064      0.0022      \n",
      "LDA                  96.4912      0.0009      \n",
      "KPCA                 90.0585      0.0010      \n"
     ]
    }
   ],
   "source": [
    "print('{:<20} {:<12} {:<12}'.format(\"Model\", \"Accuracy\", \"Execution Time\"))\n",
    "for model, info in models_info.items():\n",
    "    print('{:<20} {:<12.4f} {:<12.4f}'.format(model, info[0], info[1]))"
   ]
  }
 ],
 "metadata": {
  "kernelspec": {
   "display_name": "Python 3",
   "language": "python",
   "name": "python3"
  },
  "language_info": {
   "codemirror_mode": {
    "name": "ipython",
    "version": 3
   },
   "file_extension": ".py",
   "mimetype": "text/x-python",
   "name": "python",
   "nbconvert_exporter": "python",
   "pygments_lexer": "ipython3",
   "version": "3.6.5"
  }
 },
 "nbformat": 4,
 "nbformat_minor": 2
}
