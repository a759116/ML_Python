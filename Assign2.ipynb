{
 "cells": [
  {
   "cell_type": "markdown",
   "metadata": {},
   "source": [
    "Author: Rudra Panda"
   ]
  },
  {
   "cell_type": "markdown",
   "metadata": {},
   "source": [
    "Q1) Load the dataset into a pandas dataframe and display the first 5 lines of the dataset along with the column headings."
   ]
  },
  {
   "cell_type": "code",
   "execution_count": 1,
   "metadata": {},
   "outputs": [
    {
     "data": {
      "text/html": [
       "<div>\n",
       "<style scoped>\n",
       "    .dataframe tbody tr th:only-of-type {\n",
       "        vertical-align: middle;\n",
       "    }\n",
       "\n",
       "    .dataframe tbody tr th {\n",
       "        vertical-align: top;\n",
       "    }\n",
       "\n",
       "    .dataframe thead th {\n",
       "        text-align: right;\n",
       "    }\n",
       "</style>\n",
       "<table border=\"1\" class=\"dataframe\">\n",
       "  <thead>\n",
       "    <tr style=\"text-align: right;\">\n",
       "      <th></th>\n",
       "      <th>region</th>\n",
       "      <th>tenure</th>\n",
       "      <th>age</th>\n",
       "      <th>marital</th>\n",
       "      <th>address</th>\n",
       "      <th>income</th>\n",
       "      <th>ed</th>\n",
       "      <th>employ</th>\n",
       "      <th>retire</th>\n",
       "      <th>gender</th>\n",
       "      <th>reside</th>\n",
       "      <th>custcat</th>\n",
       "    </tr>\n",
       "  </thead>\n",
       "  <tbody>\n",
       "    <tr>\n",
       "      <th>0</th>\n",
       "      <td>2</td>\n",
       "      <td>13</td>\n",
       "      <td>44</td>\n",
       "      <td>1</td>\n",
       "      <td>9</td>\n",
       "      <td>64.0</td>\n",
       "      <td>4</td>\n",
       "      <td>5</td>\n",
       "      <td>0.0</td>\n",
       "      <td>0</td>\n",
       "      <td>2</td>\n",
       "      <td>1</td>\n",
       "    </tr>\n",
       "    <tr>\n",
       "      <th>1</th>\n",
       "      <td>3</td>\n",
       "      <td>11</td>\n",
       "      <td>33</td>\n",
       "      <td>1</td>\n",
       "      <td>7</td>\n",
       "      <td>136.0</td>\n",
       "      <td>5</td>\n",
       "      <td>5</td>\n",
       "      <td>0.0</td>\n",
       "      <td>0</td>\n",
       "      <td>6</td>\n",
       "      <td>4</td>\n",
       "    </tr>\n",
       "    <tr>\n",
       "      <th>2</th>\n",
       "      <td>3</td>\n",
       "      <td>68</td>\n",
       "      <td>52</td>\n",
       "      <td>1</td>\n",
       "      <td>24</td>\n",
       "      <td>116.0</td>\n",
       "      <td>1</td>\n",
       "      <td>29</td>\n",
       "      <td>0.0</td>\n",
       "      <td>1</td>\n",
       "      <td>2</td>\n",
       "      <td>3</td>\n",
       "    </tr>\n",
       "    <tr>\n",
       "      <th>3</th>\n",
       "      <td>2</td>\n",
       "      <td>33</td>\n",
       "      <td>33</td>\n",
       "      <td>0</td>\n",
       "      <td>12</td>\n",
       "      <td>33.0</td>\n",
       "      <td>2</td>\n",
       "      <td>0</td>\n",
       "      <td>0.0</td>\n",
       "      <td>1</td>\n",
       "      <td>1</td>\n",
       "      <td>1</td>\n",
       "    </tr>\n",
       "    <tr>\n",
       "      <th>4</th>\n",
       "      <td>2</td>\n",
       "      <td>23</td>\n",
       "      <td>30</td>\n",
       "      <td>1</td>\n",
       "      <td>9</td>\n",
       "      <td>30.0</td>\n",
       "      <td>1</td>\n",
       "      <td>2</td>\n",
       "      <td>0.0</td>\n",
       "      <td>0</td>\n",
       "      <td>4</td>\n",
       "      <td>3</td>\n",
       "    </tr>\n",
       "  </tbody>\n",
       "</table>\n",
       "</div>"
      ],
      "text/plain": [
       "   region  tenure  age  marital  address  income  ed  employ  retire  gender  \\\n",
       "0       2      13   44        1        9    64.0   4       5     0.0       0   \n",
       "1       3      11   33        1        7   136.0   5       5     0.0       0   \n",
       "2       3      68   52        1       24   116.0   1      29     0.0       1   \n",
       "3       2      33   33        0       12    33.0   2       0     0.0       1   \n",
       "4       2      23   30        1        9    30.0   1       2     0.0       0   \n",
       "\n",
       "   reside  custcat  \n",
       "0       2        1  \n",
       "1       6        4  \n",
       "2       2        3  \n",
       "3       1        1  \n",
       "4       4        3  "
      ]
     },
     "execution_count": 1,
     "metadata": {},
     "output_type": "execute_result"
    }
   ],
   "source": [
    "import numpy as np\n",
    "import matplotlib.pyplot as plt\n",
    "import pandas as pd\n",
    "\n",
    "#loading the dataset\n",
    "dataset = pd.read_csv(\"data.csv\")\n",
    "\n",
    "#display the first 5 lines of the dataset along with the column headings\n",
    "dataset.head(n=5)"
   ]
  },
  {
   "cell_type": "markdown",
   "metadata": {},
   "source": [
    "Q2) Display the number of instances for each class. That is, you should write code to find out how many instances you have for class 1, class 2, class 3, and class 4."
   ]
  },
  {
   "cell_type": "code",
   "execution_count": 2,
   "metadata": {},
   "outputs": [
    {
     "data": {
      "text/plain": [
       "3    281\n",
       "1    266\n",
       "4    236\n",
       "2    217\n",
       "Name: custcat, dtype: int64"
      ]
     },
     "execution_count": 2,
     "metadata": {},
     "output_type": "execute_result"
    }
   ],
   "source": [
    "dataset.custcat.value_counts()"
   ]
  },
  {
   "cell_type": "markdown",
   "metadata": {},
   "source": [
    "Q3) Create histograms of columns age and income to visually explore their distributions."
   ]
  },
  {
   "cell_type": "code",
   "execution_count": 3,
   "metadata": {},
   "outputs": [
    {
     "data": {
      "text/plain": [
       "(0.0, 140.0)"
      ]
     },
     "execution_count": 3,
     "metadata": {},
     "output_type": "execute_result"
    },
    {
     "data": {
      "image/png": "[encoded data removed]",
      "text/plain": [
       "<Figure size 432x288 with 1 Axes>"
      ]
     },
     "metadata": {},
     "output_type": "display_data"
    }
   ],
   "source": [
    "age = dataset.iloc[:,2].values\n",
    "income = dataset.iloc[:,5].values\n",
    "\n",
    "n, bins, patches = plt.hist(x=age, bins='auto', color='#0504aa',\n",
    "                            alpha=0.7, rwidth=0.85)\n",
    "plt.grid(axis='both', alpha=0.75)\n",
    "plt.xlabel('Age')\n",
    "plt.ylabel('Frequency')\n",
    "plt.title('Distribution of Age')\n",
    "maxfreq = n.max()\n",
    "# Set a clean upper y-axis limit.\n",
    "plt.ylim(ymax=np.ceil(maxfreq / 10) * 10 if maxfreq % 10 else maxfreq + 10)"
   ]
  },
  {
   "cell_type": "code",
   "execution_count": 4,
   "metadata": {},
   "outputs": [
    {
     "data": {
      "text/plain": [
       "(0.0, 200.0)"
      ]
     },
     "execution_count": 4,
     "metadata": {},
     "output_type": "execute_result"
    },
    {
     "data": {
      "image/png": "[encoded data removed]",
      "text/plain": [
       "<Figure size 432x288 with 1 Axes>"
      ]
     },
     "metadata": {},
     "output_type": "display_data"
    }
   ],
   "source": [
    "n, bins, patches = plt.hist(x=income, bins='auto', color='#0504aa',\n",
    "                            alpha=0.7, rwidth=0.85)\n",
    "plt.grid(axis='both', alpha=0.75)\n",
    "plt.xlabel('Income')\n",
    "plt.ylabel('Frequency')\n",
    "plt.title('Distribution of Income')\n",
    "maxfreq = n.max()\n",
    "# Set a clean upper y-axis limit.\n",
    "plt.ylim(ymax=np.ceil(maxfreq / 10) * 10 if maxfreq % 10 else maxfreq + 10)"
   ]
  },
  {
   "cell_type": "code",
   "execution_count": 5,
   "metadata": {},
   "outputs": [],
   "source": [
    "#function that returns testing accuracy and misclassification rate for a given confusion matrix\n",
    "def model_quality(confusion_matrix):\n",
    "    #Testing accuracy and misclassification rate\n",
    "    TP = np.diag(confusion_matrix)\n",
    "    FP = confusion_matrix.sum(axis=0) - np.diag(confusion_matrix)\n",
    "    FN = confusion_matrix.sum(axis=1) - np.diag(confusion_matrix)\n",
    "    TN = confusion_matrix.sum() - (TP+FP+FN)\n",
    "\n",
    "    accuracy = (TP+TN) / (TP+FP+FN+TN)\n",
    "    misclassification = (FN+FP) / (TP+FP+FN+TN)\n",
    "    \n",
    "    return accuracy, misclassification"
   ]
  },
  {
   "cell_type": "markdown",
   "metadata": {},
   "source": [
    "Q4) Perform normalization of the data using standardization."
   ]
  },
  {
   "cell_type": "markdown",
   "metadata": {},
   "source": [
    "Q5) Split the dataset into training (80%) and testing set (20%)."
   ]
  },
  {
   "cell_type": "code",
   "execution_count": 6,
   "metadata": {},
   "outputs": [],
   "source": [
    "X = dataset.iloc[:,:-1].values\n",
    "y = dataset.iloc[:,11].values\n",
    "\n",
    "#Splitting the data into Training Set and Test Set\n",
    "from sklearn.model_selection import train_test_split\n",
    "X_train, X_test, y_train, y_test= train_test_split(X,y,test_size=0.2,random_state=0)\n",
    "\n",
    "#Normalizing the features\n",
    "from sklearn.preprocessing import StandardScaler\n",
    "sc_X= StandardScaler()\n",
    "X_train= sc_X.fit_transform(X_train)\n",
    "X_test= sc_X.transform(X_test)"
   ]
  },
  {
   "cell_type": "markdown",
   "metadata": {},
   "source": [
    "Q6) Model 1: Fit a logistic regression model. What is the testing misclassification rate you get?"
   ]
  },
  {
   "cell_type": "code",
   "execution_count": 7,
   "metadata": {},
   "outputs": [
    {
     "name": "stdout",
     "output_type": "stream",
     "text": [
      "Misclassification Rate:  [0.3   0.31  0.325 0.275] \n",
      " Average Misclassification Rate:  0.3025\n"
     ]
    }
   ],
   "source": [
    "#Fitting Logistic Regression to Training Set\n",
    "from sklearn.linear_model import LogisticRegression\n",
    "classifierObj= LogisticRegression(random_state=0)\n",
    "classifierObj.fit(X_train, y_train)\n",
    "\n",
    "#Making predictions on the Test Set\n",
    "y_pred= classifierObj.predict(X_test)\n",
    "\n",
    "#Evaluating the predictions using a Confusion Matrix\n",
    "from sklearn.metrics import confusion_matrix\n",
    "cm = confusion_matrix(y_test, y_pred)\n",
    "\n",
    "#Testing accuracy and misclassification rate\n",
    "accuracy, misclassification = model_quality(cm)\n",
    "\n",
    "mean_mc = misclassification.mean()\n",
    "print(\"Misclassification Rate: \", misclassification, \"\\n\", \"Average Misclassification Rate: \", mean_mc)"
   ]
  },
  {
   "cell_type": "markdown",
   "metadata": {},
   "source": [
    "Q7) Model 2: We will now fit k-NN. However for k-NN you need to specify the value for k. In order to figure that out, run k-NN with different values of k and compute the testing misclassification rate. Plot a chart with k on X-axis and testing error on the Y-axis. What is the lowest value of testing error and corresponding value of k?"
   ]
  },
  {
   "cell_type": "code",
   "execution_count": 8,
   "metadata": {},
   "outputs": [
    {
     "data": {
      "image/png": "[encoded data removed]",
      "text/plain": [
       "<Figure size 432x288 with 1 Axes>"
      ]
     },
     "metadata": {},
     "output_type": "display_data"
    },
    {
     "name": "stdout",
     "output_type": "stream",
     "text": [
      "lowest value of testing error and corresponding value of k:  0.29 \t 109 \n",
      "\n"
     ]
    }
   ],
   "source": [
    "#Fitting KNN Classifier to Training Set\n",
    "from sklearn.neighbors import KNeighborsClassifier\n",
    "from sklearn.metrics import confusion_matrix\n",
    "\n",
    "#function that returns predicted values and confusion matrix \n",
    "#for given training and test data along with k (number of neighbors)\n",
    "def KNeighbors_Classifier(Xtrain,yTrain,Xtest,yTest,neighbors):\n",
    "    classifierObj= KNeighborsClassifier(n_neighbors=neighbors, p=2, metric='minkowski')\n",
    "    classifierObj.fit(Xtrain, yTrain)\n",
    "\n",
    "    #Making predictions on the Test Set\n",
    "    yPred= classifierObj.predict(Xtest)\n",
    "\n",
    "    #Evaluating the predictions using a Confusion Matrix\n",
    "    cm = confusion_matrix(yTest, yPred)\n",
    "    \n",
    "    return yPred, cm\n",
    "\n",
    "\n",
    "k_error = {} #dictionary that stores k and corresponding misclassification rate\n",
    "for nbr in range(1, (len(X_train)+1)):\n",
    "    y_pred, cm = KNeighbors_Classifier(X_train,y_train,X_test,y_test,nbr)\n",
    "\n",
    "    #Testing accuracy and misclassification rate\n",
    "    accuracy, misclassification = model_quality(cm)\n",
    "    #error for the model is average of misclassification rates of class labels\n",
    "    mean_mc = misclassification.mean() \n",
    "    k_error[nbr]=mean_mc\n",
    "\n",
    "#Plot a chart with k on X-axis and testing error on the Y-axis.\n",
    "k_error_list = sorted(k_error.items()) # sorted by key, return a list of tuples\n",
    "k, mc = zip(*k_error_list) # unpack a list of pairs into two tuples\n",
    "plt.plot(k, mc, color='brown')\n",
    "plt.title(\"K values vs. Testing Error\")\n",
    "plt.xlabel(\"K - number of neighbors\")\n",
    "plt.ylabel(\"Misclassification Rate\")\n",
    "plt.show()\n",
    "\n",
    "k_error_min = min(k_error.keys(), key=(lambda k: k_error[k]))\n",
    "print(\"lowest value of testing error and corresponding value of k: \", k_error.get(k_error_min), \"\\t\", k_error_min, \"\\n\")"
   ]
  },
  {
   "cell_type": "markdown",
   "metadata": {},
   "source": [
    "Q8) Model 3: Fit SVM model with different kernels. Which kernel gives the least testing error?"
   ]
  },
  {
   "cell_type": "code",
   "execution_count": 9,
   "metadata": {},
   "outputs": [
    {
     "name": "stdout",
     "output_type": "stream",
     "text": [
      "lowest value of testing error and corresponding value of kernel:  0.305 \t linear \n",
      "\n"
     ]
    }
   ],
   "source": [
    "#Fitting SVM Classifier to Training Set.\n",
    "from sklearn.svm import SVC\n",
    "from sklearn.metrics import confusion_matrix\n",
    "\n",
    "def SVM_Classifier(Xtrain,yTrain,Xtest,yTest,kernel):\n",
    "    classifierObj= SVC(kernel=kernel)\n",
    "    classifierObj.fit(Xtrain, yTrain)\n",
    "    \n",
    "    #Making predictions on the Test Set\n",
    "    yPred= classifierObj.predict(Xtest)\n",
    "\n",
    "    #Evaluating the predictions using a Confusion Matrix\n",
    "    cm = confusion_matrix(yTest, yPred)\n",
    "    \n",
    "    return yPred, cm\n",
    "\n",
    "model_error = {} #dictionary that stores kernel and corresponding misclassification rate\n",
    "kernel_options = ['linear', 'poly', 'rbf', 'sigmoid']\n",
    "for kernel in kernel_options:\n",
    "    y_pred, cm = SVM_Classifier(X_train,y_train,X_test,y_test,kernel)\n",
    "\n",
    "    #Testing accuracy and misclassification rate\n",
    "    accuracy, misclassification = model_quality(cm)\n",
    "    #error for the model is average of misclassification rates of class labels\n",
    "    mean_mc = misclassification.mean() \n",
    "    model_error[kernel]=mean_mc\n",
    "\n",
    "kernel_with_least_error = min(model_error.keys(), key=(lambda kernel: model_error[kernel]))\n",
    "\n",
    "print(\"lowest value of testing error and corresponding value of kernel: \", model_error.get(kernel_with_least_error), \"\\t\", kernel_with_least_error, \"\\n\")"
   ]
  },
  {
   "cell_type": "markdown",
   "metadata": {},
   "source": [
    "Q9) Model 4: Fit Naïve Bayes model. What is the testing error you get?"
   ]
  },
  {
   "cell_type": "code",
   "execution_count": 10,
   "metadata": {},
   "outputs": [
    {
     "name": "stdout",
     "output_type": "stream",
     "text": [
      "Misclassification Rate:  [0.44  0.265 0.285 0.21 ] \n",
      " Average Misclassification Rate:  0.3\n"
     ]
    }
   ],
   "source": [
    "#Fitting NaiveBayes to Training Set.\n",
    "from sklearn.naive_bayes import GaussianNB\n",
    "classifierObj= GaussianNB()\n",
    "classifierObj.fit(X_train, y_train)\n",
    "\n",
    "#Making predictions on the Test Set\n",
    "y_pred= classifierObj.predict(X_test)\n",
    "\n",
    "#Evaluating the predictions using a Confusion Matrix\n",
    "from sklearn.metrics import confusion_matrix\n",
    "cm = confusion_matrix(y_test, y_pred)\n",
    "\n",
    "#Testing accuracy and misclassification rate\n",
    "accuracy, misclassification = model_quality(cm)\n",
    "\n",
    "mean_mc = misclassification.mean()\n",
    "print(\"Misclassification Rate: \", misclassification, \"\\n\", \"Average Misclassification Rate: \", mean_mc)"
   ]
  },
  {
   "cell_type": "markdown",
   "metadata": {},
   "source": [
    "Q10) Model 5: Fit Random Forest model. For Random Forest, you need to specify the number of trees (n_estimators). In order to figure that out, run Random Forest with different values of n_estimators and compute the testing misclassification rate. Plot a chart with n_estimators on X-axis and testing error on the Y-axis. What is the lowest value of testing error and corresponding value of n_estimators?"
   ]
  },
  {
   "cell_type": "code",
   "execution_count": 11,
   "metadata": {},
   "outputs": [
    {
     "data": {
      "image/png": "[encoded data removed]",
      "text/plain": [
       "<Figure size 432x288 with 1 Axes>"
      ]
     },
     "metadata": {},
     "output_type": "display_data"
    },
    {
     "name": "stdout",
     "output_type": "stream",
     "text": [
      "lowest value of testing error and corresponding value of n_estimators:  0.335 \t 15 \n",
      "\n"
     ]
    }
   ],
   "source": [
    "#Fitting Random Forest Classifier to Training Set.\n",
    "from sklearn.ensemble import RandomForestClassifier\n",
    "from sklearn.metrics import confusion_matrix\n",
    "\n",
    "def Random_Forest_Classifier(Xtrain,yTrain,Xtest,yTest,n_trees):\n",
    "    classifierObj= RandomForestClassifier(n_estimators=n_trees, criterion='entropy')\n",
    "    classifierObj.fit(Xtrain, yTrain)\n",
    "    \n",
    "    #Making predictions on the Test Set\n",
    "    yPred= classifierObj.predict(Xtest)\n",
    "\n",
    "    #Evaluating the predictions using a Confusion Matrix\n",
    "    cm = confusion_matrix(yTest, yPred)\n",
    "    \n",
    "    return yPred, cm\n",
    "\n",
    "model_error = {} #dictionary that stores number of trees and corresponding misclassification rate\n",
    "\n",
    "for n_trees in range(1, (len(X_train)+1)):\n",
    "    y_pred, cm = Random_Forest_Classifier(X_train,y_train,X_test,y_test,n_trees)\n",
    "\n",
    "    #Testing accuracy and misclassification rate\n",
    "    accuracy, misclassification = model_quality(cm)\n",
    "    #error for the model is average of misclassification rates of class labels\n",
    "    mean_mc = misclassification.mean() \n",
    "    model_error[n_trees]=mean_mc\n",
    "\n",
    "\n",
    "#Plot a chart with number of trees on X-axis and testing error on the Y-axis.\n",
    "model_error_list = sorted(model_error.items()) # sorted by key, return a list of tuples\n",
    "ne, mc = zip(*model_error_list) # unpack a list of pairs into two tuples\n",
    "plt.plot(ne, mc, color='brown')\n",
    "plt.title(\"Number of Trees vs. Testing Error\")\n",
    "plt.xlabel(\"Number of Trees\")\n",
    "plt.ylabel(\"Misclassification Rate\")\n",
    "plt.show()\n",
    "    \n",
    "n_trees_with_least_error = min(model_error.keys(), key=(lambda ne: model_error[ne]))\n",
    "print(\"lowest value of testing error and corresponding value of n_estimators: \", k_error.get(n_trees_with_least_error), \"\\t\", n_trees_with_least_error, \"\\n\")"
   ]
  },
  {
   "cell_type": "markdown",
   "metadata": {},
   "source": [
    "Q11) Predicting with Ensemble: Now that you have built 5 models. Loop over the testing set. For every test instance, have each of the models predict the class label. Eventual class predicted will be based on a majority vote of the 5 models. What is the testing misclassification rate you get with the ensemble model?"
   ]
  },
  {
   "cell_type": "code",
   "execution_count": 12,
   "metadata": {},
   "outputs": [
    {
     "name": "stdout",
     "output_type": "stream",
     "text": [
      "Ensemble average misclassification rate:  0.3025\n"
     ]
    }
   ],
   "source": [
    "#Logistic Regression prediction\n",
    "lrObj= LogisticRegression(random_state=0)\n",
    "lrObj.fit(X_train, y_train)\n",
    "y_pred_lr= lrObj.predict(X_test)\n",
    "\n",
    "#k-nn prediction\n",
    "knnObj= KNeighborsClassifier(n_neighbors=k_error_min, p=2, metric='minkowski')\n",
    "knnObj.fit(X_train, y_train)\n",
    "y_pred_knn= knnObj.predict(X_test)\n",
    "\n",
    "#SVM prediction\n",
    "svcObj= SVC(kernel=kernel_with_least_error)\n",
    "svcObj.fit(X_train, y_train)\n",
    "y_pred_svc= svcObj.predict(X_test)\n",
    "\n",
    "#NaiveBayes prediction\n",
    "gnbObj= GaussianNB()\n",
    "gnbObj.fit(X_train, y_train)\n",
    "y_pred_gnb= gnbObj.predict(X_test)\n",
    "\n",
    "#Random Forestr prediction\n",
    "rfObj= RandomForestClassifier(n_estimators=n_trees_with_least_error, criterion='entropy')\n",
    "rfObj.fit(X_train, y_train)\n",
    "y_pred_rf= rfObj.predict(X_test)\n",
    "\n",
    "y_pred_ensemble = []\n",
    "\n",
    "for t in range(0, len(X_test)):\n",
    "    #majority vote\n",
    "    class_vote_count = {}\n",
    "    class_vote_count[1] = 0\n",
    "    class_vote_count[2] = 0\n",
    "    class_vote_count[3] = 0\n",
    "    class_vote_count[4] = 0\n",
    "    \n",
    "    class_vote_count[y_pred_lr[t]] = class_vote_count.get(y_pred_lr[t]) + 1\n",
    "    class_vote_count[y_pred_knn[t]] = class_vote_count.get(y_pred_knn[t]) + 1\n",
    "    class_vote_count[y_pred_svc[t]] = class_vote_count.get(y_pred_svc[t]) + 1\n",
    "    class_vote_count[y_pred_gnb[t]] = class_vote_count.get(y_pred_gnb[t]) + 1\n",
    "    class_vote_count[y_pred_rf[t]] = class_vote_count.get(y_pred_rf[t]) + 1\n",
    "    \n",
    "    class_label_with_max_vote = max(class_vote_count.keys(), key=(lambda cl: class_vote_count[cl]))\n",
    "    y_pred_ensemble.append(class_label_with_max_vote)\n",
    "\n",
    "cm_en = confusion_matrix(y_test, y_pred_ensemble)\n",
    "accuracy, misclassification = model_quality(cm_en)\n",
    "#error for the model is average of misclassification rates of class labels\n",
    "mean_mc = misclassification.mean() \n",
    "print(\"Ensemble average misclassification rate: \", mean_mc)"
   ]
  },
  {
   "cell_type": "code",
   "execution_count": null,
   "metadata": {},
   "outputs": [],
   "source": []
  }
 ],
 "metadata": {
  "kernelspec": {
   "display_name": "Python 3",
   "language": "python",
   "name": "python3"
  },
  "language_info": {
   "codemirror_mode": {
    "name": "ipython",
    "version": 3
   },
   "file_extension": ".py",
   "mimetype": "text/x-python",
   "name": "python",
   "nbconvert_exporter": "python",
   "pygments_lexer": "ipython3",
   "version": "3.6.5"
  }
 },
 "nbformat": 4,
 "nbformat_minor": 2
}
