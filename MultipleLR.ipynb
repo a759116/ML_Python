{
 "cells": [
  {
   "cell_type": "code",
   "execution_count": 6,
   "metadata": {},
   "outputs": [],
   "source": [
    "#Data preparation steps\n",
    "\n",
    "import numpy as np\n",
    "import matplotlib.pyplot as plt\n",
    "import pandas as pd\n",
    "\n",
    "#loading the dataset\n",
    "dataset = pd.read_csv('~/Downloads/ML/employee.csv')\n",
    "\n",
    "X = dataset.iloc[:, :-1].values\n",
    "y = dataset.iloc[:, 4].values\n",
    "\n",
    "#Dealing with categorical values\n",
    "from sklearn.preprocessing import LabelEncoder, OneHotEncoder\n",
    "labelencoder_X = LabelEncoder()\n",
    "X[:,0] = labelencoder_X.fit_transform(X[:, 0])\n",
    "\n",
    "onehotencoder = OneHotEncoder(categorical_features=[0])\n",
    "X = onehotencoder.fit_transform(X).toarray()\n",
    "\n",
    "#Remove the extra dummy variable\n",
    "X = X[:,1:]\n",
    "\n",
    "#Splitting data into Training and Test Set\n",
    "from sklearn.model_selection import train_test_split\n",
    "X_train, X_test, y_train, y_test = train_test_split(X,y,test_size=0.2,random_state=0)\n",
    "\n",
    "#Fitting multiple Linear Regression to Training Set\n",
    "from sklearn.linear_model import LinearRegression\n",
    "mlrObj = LinearRegression()\n",
    "mlrObj.fit(X_train, y_train)\n",
    "y_pred = mlrObj.predict(X_test)\n",
    "\n",
    "#Backward Elimination\n",
    "import statsmodels.formula.api as sm\n",
    "X = np.append(arr=np.ones((30,1)).astype(int), values=X, axis=1)\n",
    "\n",
    "#X_sig= X[:,[0,1,2,3,4,5]]\n",
    "#obj_OLS= sm.OLS(endog= y, exog= X_sig).fit()\n",
    "#obj_OLS.summary()\n",
    "\n",
    "#X_sig= X[:,[0,1,3,4,5]]\n",
    "#obj_OLS= sm.OLS(endog= y, exog= X_sig).fit()\n",
    "#obj_OLS.summary()\n",
    "\n",
    "#X_sig= X[:,[0,1,3,5]]\n",
    "#obj_OLS= sm.OLS(endog= y, exog= X_sig).fit()\n",
    "#obj_OLS.summary()\n",
    "\n",
    "#X_sig= X[:,[0,3,5]]\n",
    "#obj_OLS= sm.OLS(endog= y, exog= X_sig).fit()\n",
    "#obj_OLS.summary()\n",
    "\n",
    "X_sig= X[:,[0,5]]\n",
    "obj_OLS= sm.OLS(endog= y, exog= X_sig).fit()\n",
    "obj_OLS.summary()\n",
    "\n",
    "#Splitting the data into Training Set and Test Set\n",
    "X_sig_train, X_sig_test, y_sig_train, y_sig_test= train_test_split(X_sig, y, test_size=0.2,random_state=0)\n",
    "mlrObj_sig= LinearRegression()\n",
    "mlrObj_sig.fit(X_sig_train, y_sig_train)\n",
    "y_sig_pred= mlrObj_sig.predict(X_sig_test)\n",
    "\n",
    "#Normalizing the features\n",
    "#from sklearn.preprocessing import StandardScaler\n",
    "#sc_X = StandardScaler()\n",
    "#X_train = sc_X.fit_transform(X_train)\n",
    "#X_test = sc_X.transform(X_test)"
   ]
  },
  {
   "cell_type": "code",
   "execution_count": 20,
   "metadata": {},
   "outputs": [
    {
     "name": "stdout",
     "output_type": "stream",
     "text": [
      "[ 37731 122391  57081  63218 116969 109431] \n",
      " [ 43891.26902659 126961.49881403  62010.5455212   61270.23196485\n",
      " 112780.99305321 106171.56595799] \n",
      " [ 40748.96184072 122699.62295594  64961.65717022  63099.14214487\n",
      " 115249.56285456 107799.50275317]\n"
     ]
    }
   ],
   "source": [
    "print(y_test, \"\\n\", y_pred, \"\\n\", y_sig_pred)"
   ]
  },
  {
   "cell_type": "code",
   "execution_count": null,
   "metadata": {},
   "outputs": [],
   "source": []
  }
 ],
 "metadata": {
  "kernelspec": {
   "display_name": "Python 3",
   "language": "python",
   "name": "python3"
  },
  "language_info": {
   "codemirror_mode": {
    "name": "ipython",
    "version": 3
   },
   "file_extension": ".py",
   "mimetype": "text/x-python",
   "name": "python",
   "nbconvert_exporter": "python",
   "pygments_lexer": "ipython3",
   "version": "3.6.5"
  }
 },
 "nbformat": 4,
 "nbformat_minor": 2
}
