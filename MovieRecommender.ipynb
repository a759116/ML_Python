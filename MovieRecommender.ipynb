{
 "cells": [
  {
   "cell_type": "code",
   "execution_count": 1,
   "metadata": {},
   "outputs": [],
   "source": [
    "#Importing the libraries\n",
    "import pandas as pd\n",
    "from math import sqrt\n",
    "import numpy as np\n",
    "import matplotlib.pyplot as plt\n",
    "%matplotlib inline\n",
    "\n",
    "#Reading in the data\n",
    "movies_df= pd.read_csv('movies.csv') #movieId, title, genres, year\n",
    "ratings_df= pd.read_csv('ratings.csv') #userId, movieId, rating, timestamp"
   ]
  },
  {
   "cell_type": "code",
   "execution_count": 2,
   "metadata": {},
   "outputs": [],
   "source": [
    "#Dropping the columns we do not need\n",
    "movies_df= movies_df.drop('genres', 1)\n",
    "ratings_df= ratings_df.drop('timestamp', 1)"
   ]
  },
  {
   "cell_type": "code",
   "execution_count": 3,
   "metadata": {},
   "outputs": [],
   "source": [
    "# select a target user\n",
    "targetUser = ratings_df.query('userId == 1')"
   ]
  },
  {
   "cell_type": "code",
   "execution_count": 4,
   "metadata": {},
   "outputs": [
    {
     "data": {
      "text/html": [
       "<div>\n",
       "<style scoped>\n",
       "    .dataframe tbody tr th:only-of-type {\n",
       "        vertical-align: middle;\n",
       "    }\n",
       "\n",
       "    .dataframe tbody tr th {\n",
       "        vertical-align: top;\n",
       "    }\n",
       "\n",
       "    .dataframe thead th {\n",
       "        text-align: right;\n",
       "    }\n",
       "</style>\n",
       "<table border=\"1\" class=\"dataframe\">\n",
       "  <thead>\n",
       "    <tr style=\"text-align: right;\">\n",
       "      <th></th>\n",
       "      <th>userId</th>\n",
       "      <th>movieId</th>\n",
       "      <th>rating</th>\n",
       "    </tr>\n",
       "  </thead>\n",
       "  <tbody>\n",
       "    <tr>\n",
       "      <th>0</th>\n",
       "      <td>1</td>\n",
       "      <td>169</td>\n",
       "      <td>2.5</td>\n",
       "    </tr>\n",
       "    <tr>\n",
       "      <th>1</th>\n",
       "      <td>1</td>\n",
       "      <td>2471</td>\n",
       "      <td>3.0</td>\n",
       "    </tr>\n",
       "    <tr>\n",
       "      <th>2</th>\n",
       "      <td>1</td>\n",
       "      <td>48516</td>\n",
       "      <td>5.0</td>\n",
       "    </tr>\n",
       "  </tbody>\n",
       "</table>\n",
       "</div>"
      ],
      "text/plain": [
       "   userId  movieId  rating\n",
       "0       1      169     2.5\n",
       "1       1     2471     3.0\n",
       "2       1    48516     5.0"
      ]
     },
     "execution_count": 4,
     "metadata": {},
     "output_type": "execute_result"
    }
   ],
   "source": [
    "targetUser"
   ]
  },
  {
   "cell_type": "code",
   "execution_count": 5,
   "metadata": {},
   "outputs": [],
   "source": [
    "# remove target user from ratings dataset\n",
    "ratings_df = ratings_df.drop(ratings_df[ratings_df.userId.isin(targetUser.userId.tolist())].index)"
   ]
  },
  {
   "cell_type": "code",
   "execution_count": 6,
   "metadata": {},
   "outputs": [],
   "source": [
    "def similarUsers(targetUser):\n",
    "    similarUsers = ratings_df[ratings_df.movieId.isin(targetUser.movieId.tolist())]\n",
    "    return similarUsers"
   ]
  },
  {
   "cell_type": "code",
   "execution_count": 7,
   "metadata": {},
   "outputs": [],
   "source": [
    "similarUsers = similarUsers(targetUser)"
   ]
  },
  {
   "cell_type": "code",
   "execution_count": 8,
   "metadata": {},
   "outputs": [],
   "source": [
    "def targetUserPotentialMovies(targetUser, similarUsers):\n",
    "    smlarUsrsRtdMvs = ratings_df[ratings_df.userId.isin(similarUsers.userId.tolist())]\n",
    "    targetUserPotentialMovies = smlarUsrsRtdMvs.drop(smlarUsrsRtdMvs[smlarUsrsRtdMvs.movieId.isin(targetUser.movieId.tolist())].index)\n",
    "    return targetUserPotentialMovies"
   ]
  },
  {
   "cell_type": "code",
   "execution_count": 9,
   "metadata": {},
   "outputs": [],
   "source": [
    "#movies not rated by target user, but rated by similar users\n",
    "targetUserPotentialMovies = targetUserPotentialMovies(targetUser, similarUsers)  "
   ]
  },
  {
   "cell_type": "code",
   "execution_count": 10,
   "metadata": {},
   "outputs": [],
   "source": [
    "def similarityIndex(targetUser, similarUsers):\n",
    "    similarityIndex = {}\n",
    "    #group the users by userId - this will help in computing similarity index with each user\n",
    "    similarUsersGrp = similarUsers.groupby(similarUsers.userId)\n",
    "    for similarUserId, similarUserMovieRating in similarUsersGrp:\n",
    "        #Need scores for the movies that both target and similar user have in common\n",
    "        #The similar user was chosen only if it had the same movie as target user, and no additional step needed\n",
    "        #For target user chose the movies that the current similar user has\n",
    "        targetUserX = targetUser[targetUser.movieId.isin(similarUserMovieRating['movieId'].tolist())]\n",
    "        # sort the lists based on movie Ids\n",
    "        targetUserX = targetUserX.sort_values('movieId')\n",
    "        similarUserMovieRating = similarUserMovieRating.sort_values('movieId')\n",
    "        #create the list of ratings to be used in pearson coorelation equation\n",
    "        xs = targetUserX['rating'].tolist()\n",
    "        ys = similarUserMovieRating['rating'].tolist()\n",
    "        xlen = float(len(xs))\n",
    "        Sxy = sum(x*y for x, y in zip(xs, ys)) - (sum(xs)*sum(ys))/xlen\n",
    "        Sxx = sum(x*x for x in xs) - pow(sum(xs),2)/xlen\n",
    "        Syy = sum(y*y for y in ys) - pow(sum(ys),2)/xlen\n",
    "        if (Sxx != 0 and Syy !=0):\n",
    "            similarityIndex[similarUserId] = Sxy / sqrt(Sxx*Syy)\n",
    "        else:\n",
    "            similarityIndex[similarUserId] = 0\n",
    "    return similarityIndex"
   ]
  },
  {
   "cell_type": "code",
   "execution_count": 11,
   "metadata": {},
   "outputs": [],
   "source": [
    "#determine similarity index for target user w.r.t similar users\n",
    "similarityIndex = similarityIndex(targetUser, similarUsers)"
   ]
  },
  {
   "cell_type": "code",
   "execution_count": 12,
   "metadata": {},
   "outputs": [
    {
     "data": {
      "text/html": [
       "<div>\n",
       "<style scoped>\n",
       "    .dataframe tbody tr th:only-of-type {\n",
       "        vertical-align: middle;\n",
       "    }\n",
       "\n",
       "    .dataframe tbody tr th {\n",
       "        vertical-align: top;\n",
       "    }\n",
       "\n",
       "    .dataframe thead th {\n",
       "        text-align: right;\n",
       "    }\n",
       "</style>\n",
       "<table border=\"1\" class=\"dataframe\">\n",
       "  <thead>\n",
       "    <tr style=\"text-align: right;\">\n",
       "      <th></th>\n",
       "      <th>userId</th>\n",
       "      <th>movieId</th>\n",
       "      <th>rating</th>\n",
       "    </tr>\n",
       "  </thead>\n",
       "  <tbody>\n",
       "    <tr>\n",
       "      <th>491</th>\n",
       "      <td>13</td>\n",
       "      <td>169</td>\n",
       "      <td>1.0</td>\n",
       "    </tr>\n",
       "    <tr>\n",
       "      <th>663</th>\n",
       "      <td>14</td>\n",
       "      <td>169</td>\n",
       "      <td>3.0</td>\n",
       "    </tr>\n",
       "    <tr>\n",
       "      <th>1298</th>\n",
       "      <td>17</td>\n",
       "      <td>169</td>\n",
       "      <td>1.0</td>\n",
       "    </tr>\n",
       "    <tr>\n",
       "      <th>2059</th>\n",
       "      <td>17</td>\n",
       "      <td>2471</td>\n",
       "      <td>2.0</td>\n",
       "    </tr>\n",
       "    <tr>\n",
       "      <th>3880</th>\n",
       "      <td>37</td>\n",
       "      <td>48516</td>\n",
       "      <td>5.0</td>\n",
       "    </tr>\n",
       "  </tbody>\n",
       "</table>\n",
       "</div>"
      ],
      "text/plain": [
       "      userId  movieId  rating\n",
       "491       13      169     1.0\n",
       "663       14      169     3.0\n",
       "1298      17      169     1.0\n",
       "2059      17     2471     2.0\n",
       "3880      37    48516     5.0"
      ]
     },
     "execution_count": 12,
     "metadata": {},
     "output_type": "execute_result"
    }
   ],
   "source": [
    "similarUsers.head()"
   ]
  },
  {
   "cell_type": "code",
   "execution_count": 13,
   "metadata": {},
   "outputs": [],
   "source": [
    "#similarityIndex.items()\n",
    "similarityIndexDF = pd.DataFrame.from_dict(similarityIndex, orient ='index')\n",
    "similarityIndexDF.columns= ['similarityIndex']\n",
    "similarityIndexDF['userId'] = similarityIndexDF.index\n",
    "similarityIndexDF.index = range(len(similarityIndexDF))"
   ]
  },
  {
   "cell_type": "code",
   "execution_count": 14,
   "metadata": {},
   "outputs": [],
   "source": [
    "targetUserPotentialMovies = targetUserPotentialMovies.merge(similarityIndexDF, how='inner', left_on='userId', right_on='userId')\n",
    "targetUserPotentialMovies['weightedRating'] = targetUserPotentialMovies['rating']*targetUserPotentialMovies['similarityIndex']\n",
    "normalizedRating = targetUserPotentialMovies.groupby('movieId').sum()[['similarityIndex','weightedRating']]\n",
    "normalizedRating.columns = ['SumSimilarityIndex','SumWeightedRating']\n",
    "normalizedRating = normalizedRating.drop(normalizedRating[normalizedRating.SumSimilarityIndex == 0].index)\n",
    "targetUserMovieRecommendations = pd.DataFrame()\n",
    "targetUserMovieRecommendations['avg_weighted_rating'] = normalizedRating['SumWeightedRating'] / normalizedRating['SumSimilarityIndex']\n",
    "targetUserMovieRecommendations['movieId'] = normalizedRating.index\n",
    "targetUserMovieRecommendations.index=range(len(targetUserMovieRecommendations))\n",
    "targetUserMovieRecommendations = targetUserMovieRecommendations.sort_values(by='avg_weighted_rating', ascending=False)"
   ]
  },
  {
   "cell_type": "code",
   "execution_count": 15,
   "metadata": {},
   "outputs": [],
   "source": [
    "top10TargetUserMovieRecommendations = targetUserMovieRecommendations[0:10]"
   ]
  },
  {
   "cell_type": "code",
   "execution_count": 16,
   "metadata": {},
   "outputs": [
    {
     "data": {
      "text/html": [
       "<div>\n",
       "<style scoped>\n",
       "    .dataframe tbody tr th:only-of-type {\n",
       "        vertical-align: middle;\n",
       "    }\n",
       "\n",
       "    .dataframe tbody tr th {\n",
       "        vertical-align: top;\n",
       "    }\n",
       "\n",
       "    .dataframe thead th {\n",
       "        text-align: right;\n",
       "    }\n",
       "</style>\n",
       "<table border=\"1\" class=\"dataframe\">\n",
       "  <thead>\n",
       "    <tr style=\"text-align: right;\">\n",
       "      <th></th>\n",
       "      <th>movieId</th>\n",
       "      <th>title</th>\n",
       "      <th>year</th>\n",
       "    </tr>\n",
       "  </thead>\n",
       "  <tbody>\n",
       "    <tr>\n",
       "      <th>397</th>\n",
       "      <td>401</td>\n",
       "      <td>Mirage</td>\n",
       "      <td>1995.0</td>\n",
       "    </tr>\n",
       "    <tr>\n",
       "      <th>3045</th>\n",
       "      <td>3131</td>\n",
       "      <td>Broadway Damage</td>\n",
       "      <td>1997.0</td>\n",
       "    </tr>\n",
       "    <tr>\n",
       "      <th>4628</th>\n",
       "      <td>4722</td>\n",
       "      <td>All Over the Guy</td>\n",
       "      <td>2001.0</td>\n",
       "    </tr>\n",
       "    <tr>\n",
       "      <th>7793</th>\n",
       "      <td>8394</td>\n",
       "      <td>Hi-Line, The</td>\n",
       "      <td>1999.0</td>\n",
       "    </tr>\n",
       "    <tr>\n",
       "      <th>8262</th>\n",
       "      <td>8944</td>\n",
       "      <td>Dust Factory, The</td>\n",
       "      <td>2004.0</td>\n",
       "    </tr>\n",
       "    <tr>\n",
       "      <th>11249</th>\n",
       "      <td>47538</td>\n",
       "      <td>Crime Busters</td>\n",
       "      <td>1977.0</td>\n",
       "    </tr>\n",
       "    <tr>\n",
       "      <th>13335</th>\n",
       "      <td>65352</td>\n",
       "      <td>Have Rocket, Will Travel</td>\n",
       "      <td>1959.0</td>\n",
       "    </tr>\n",
       "    <tr>\n",
       "      <th>13883</th>\n",
       "      <td>69485</td>\n",
       "      <td>Air Hawks</td>\n",
       "      <td>1935.0</td>\n",
       "    </tr>\n",
       "    <tr>\n",
       "      <th>15281</th>\n",
       "      <td>77852</td>\n",
       "      <td>Tales of Terror (Kaidan Shin Mimibukuro)</td>\n",
       "      <td>2004.0</td>\n",
       "    </tr>\n",
       "    <tr>\n",
       "      <th>28339</th>\n",
       "      <td>131050</td>\n",
       "      <td>Stargate SG-1 Children of the Gods - Final Cut</td>\n",
       "      <td>2009.0</td>\n",
       "    </tr>\n",
       "  </tbody>\n",
       "</table>\n",
       "</div>"
      ],
      "text/plain": [
       "       movieId                                           title    year\n",
       "397        401                                          Mirage  1995.0\n",
       "3045      3131                                 Broadway Damage  1997.0\n",
       "4628      4722                                All Over the Guy  2001.0\n",
       "7793      8394                                    Hi-Line, The  1999.0\n",
       "8262      8944                               Dust Factory, The  2004.0\n",
       "11249    47538                                   Crime Busters  1977.0\n",
       "13335    65352                        Have Rocket, Will Travel  1959.0\n",
       "13883    69485                                       Air Hawks  1935.0\n",
       "15281    77852        Tales of Terror (Kaidan Shin Mimibukuro)  2004.0\n",
       "28339   131050  Stargate SG-1 Children of the Gods - Final Cut  2009.0"
      ]
     },
     "execution_count": 16,
     "metadata": {},
     "output_type": "execute_result"
    }
   ],
   "source": [
    "top10TargetUserMovieRecommendations = movies_df[movies_df.movieId.isin(top10TargetUserMovieRecommendations.movieId.tolist())]\n",
    "top10TargetUserMovieRecommendations"
   ]
  },
  {
   "cell_type": "code",
   "execution_count": 17,
   "metadata": {},
   "outputs": [
    {
     "data": {
      "text/html": [
       "<div>\n",
       "<style scoped>\n",
       "    .dataframe tbody tr th:only-of-type {\n",
       "        vertical-align: middle;\n",
       "    }\n",
       "\n",
       "    .dataframe tbody tr th {\n",
       "        vertical-align: top;\n",
       "    }\n",
       "\n",
       "    .dataframe thead th {\n",
       "        text-align: right;\n",
       "    }\n",
       "</style>\n",
       "<table border=\"1\" class=\"dataframe\">\n",
       "  <thead>\n",
       "    <tr style=\"text-align: right;\">\n",
       "      <th></th>\n",
       "      <th>movieId</th>\n",
       "      <th>title</th>\n",
       "      <th>year</th>\n",
       "    </tr>\n",
       "  </thead>\n",
       "  <tbody>\n",
       "    <tr>\n",
       "      <th>167</th>\n",
       "      <td>169</td>\n",
       "      <td>Free Willy 2: The Adventure Home</td>\n",
       "      <td>1995.0</td>\n",
       "    </tr>\n",
       "    <tr>\n",
       "      <th>2387</th>\n",
       "      <td>2471</td>\n",
       "      <td>Crocodile Dundee II</td>\n",
       "      <td>1988.0</td>\n",
       "    </tr>\n",
       "    <tr>\n",
       "      <th>11372</th>\n",
       "      <td>48516</td>\n",
       "      <td>Departed, The</td>\n",
       "      <td>2006.0</td>\n",
       "    </tr>\n",
       "  </tbody>\n",
       "</table>\n",
       "</div>"
      ],
      "text/plain": [
       "       movieId                             title    year\n",
       "167        169  Free Willy 2: The Adventure Home  1995.0\n",
       "2387      2471               Crocodile Dundee II  1988.0\n",
       "11372    48516                     Departed, The  2006.0"
      ]
     },
     "execution_count": 17,
     "metadata": {},
     "output_type": "execute_result"
    }
   ],
   "source": [
    "myMovies = movies_df[movies_df.movieId.isin(targetUser.movieId.tolist())]\n",
    "myMovies"
   ]
  },
  {
   "cell_type": "code",
   "execution_count": null,
   "metadata": {},
   "outputs": [],
   "source": []
  }
 ],
 "metadata": {
  "kernelspec": {
   "display_name": "Python 3",
   "language": "python",
   "name": "python3"
  },
  "language_info": {
   "codemirror_mode": {
    "name": "ipython",
    "version": 3
   },
   "file_extension": ".py",
   "mimetype": "text/x-python",
   "name": "python",
   "nbconvert_exporter": "python",
   "pygments_lexer": "ipython3",
   "version": "3.6.5"
  }
 },
 "nbformat": 4,
 "nbformat_minor": 2
}
